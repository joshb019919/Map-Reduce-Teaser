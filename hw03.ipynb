{
  "nbformat": 4,
  "nbformat_minor": 0,
  "metadata": {
    "colab": {
      "provenance": [],
      "include_colab_link": true
    },
    "kernelspec": {
      "name": "python3",
      "display_name": "Python 3"
    },
    "language_info": {
      "name": "python"
    }
  },
  "cells": [
    {
      "cell_type": "markdown",
      "metadata": {
        "id": "view-in-github",
        "colab_type": "text"
      },
      "source": [
        "<a href=\"https://colab.research.google.com/github/joshb019919/Map-Reduce-Teaser/blob/main/hw03.ipynb\" target=\"_parent\"><img src=\"https://colab.research.google.com/assets/colab-badge.svg\" alt=\"Open In Colab\"/></a>"
      ]
    },
    {
      "cell_type": "markdown",
      "source": [
        "#HW03\n",
        "\n",
        "*   Deadline: 09/12/2025 at 11:30PM\n",
        "*   Please submit a PDF output of this program, showing which test cases are passed. To create the PDF, from the menu choose Print->to PDF. If there is no PDF in the list of your printers, then you need to install a print2PDF app.\n",
        "*   Please also submit the completed Google Colab notebook file.\n",
        "*   You may zip the Google Colab notebook file along with any data files the project includes, **but do not place the PDF inside a zip file. This way, the PDF can be previewed directly in Brightspace without the need to download it.**\n",
        "\n"
      ],
      "metadata": {
        "id": "pnTwaFgIE9y0"
      }
    },
    {
      "cell_type": "code",
      "execution_count": 14,
      "metadata": {
        "id": "U9J-HaMAvFm7"
      },
      "outputs": [],
      "source": [
        "import math\n",
        "from functools import reduce"
      ]
    },
    {
      "cell_type": "code",
      "source": [
        "from os import times_result\n",
        "def are_equal(obj1, obj2):\n",
        "    result = None\n",
        "    if isinstance(obj1, dict) and isinstance(obj2, dict):\n",
        "        if obj1.keys() != obj2.keys():\n",
        "            result = False\n",
        "        else:\n",
        "            result = all(times_result(obj1[k], obj2[k]) for k in obj1)\n",
        "    elif isinstance(obj1, (list, tuple)) and isinstance(obj2, (list, tuple)):\n",
        "        if len(obj1) != len(obj2):\n",
        "            result = False\n",
        "        else:\n",
        "            result = all(are_equal(a, b) for a, b in zip(obj1, obj2))\n",
        "    elif isinstance(obj1, set) and isinstance(obj2, set):\n",
        "        result = (obj1 == obj2)  # Sets are unordered, so direct comparison works\n",
        "    else:\n",
        "        result = (obj1 == obj2)  # For other types, compare directly\n",
        "    if result == False:\n",
        "        return False\n",
        "    return True\n",
        "\n",
        "def test(obj1, obj2):\n",
        "  if are_equal(obj1, obj2):\n",
        "    return \"Test passed :)\"\n",
        "  else:\n",
        "    return \"Test failed :(\""
      ],
      "metadata": {
        "id": "l-BSZLeZt1g4"
      },
      "execution_count": 15,
      "outputs": []
    },
    {
      "cell_type": "code",
      "source": [
        "import matplotlib.pyplot as plt\n",
        "import matplotlib.patches as patches\n",
        "\n",
        "def plot_points_and_rectangle(points, l, r, b, t, point_color='blue', rect_color='red', title=\"Points and Rectangle\"):\n",
        "    \"\"\"\n",
        "    l: Left boundary of the rectangle.\n",
        "    r: Right boundary of the rectangle.\n",
        "    b: Bottom boundary of the rectangle.\n",
        "    t: Top boundary of the rectangle.\n",
        "    \"\"\"\n",
        "    # Create a figure and axis\n",
        "    fig, ax = plt.subplots(figsize=(8, 6))\n",
        "\n",
        "    # Plot points\n",
        "    x_coords = [point[0] for point in points]\n",
        "    y_coords = [point[1] for point in points]\n",
        "    ax.scatter(x_coords, y_coords, color=point_color, label=\"Points\")\n",
        "\n",
        "    # Plot rectangle\n",
        "    width = r - l\n",
        "    height = t - b\n",
        "    rectangle = patches.Rectangle((l, b), width, height, linewidth=2, edgecolor=rect_color, facecolor='none', label=\"Rectangle\")\n",
        "    ax.add_patch(rectangle)\n",
        "\n",
        "    # Customize plot\n",
        "    ax.set_xlim(min(l, min(x_coords)) - 1, max(r, max(x_coords)) + 1)\n",
        "    ax.set_ylim(min(b, min(y_coords)) - 1, max(t, max(y_coords)) + 1)\n",
        "    ax.set_aspect('equal', adjustable='box')\n",
        "    plt.axhline(0, color=\"black\", linewidth=0.8, linestyle=\"--\")\n",
        "    plt.axvline(0, color=\"black\", linewidth=0.8, linestyle=\"--\")\n",
        "    plt.grid(True, which=\"both\", linestyle=\"--\", linewidth=0.5)\n",
        "    plt.title(title, fontsize=14)\n",
        "    plt.xlabel(\"X-axis\", fontsize=12)\n",
        "    plt.ylabel(\"Y-axis\", fontsize=12)\n",
        "    plt.legend()\n",
        "\n",
        "    # Show the plot\n",
        "    plt.show()"
      ],
      "metadata": {
        "id": "ryuujSYn4ZFT"
      },
      "execution_count": 16,
      "outputs": []
    },
    {
      "cell_type": "markdown",
      "source": [
        "## Q 2.4. (0.5 points)\n",
        "Compute the maximum between the square of the negative numbers and the cube of the nonnegative numbers in a list"
      ],
      "metadata": {
        "id": "diJzMP8oyLRy"
      }
    },
    {
      "cell_type": "code",
      "source": [
        "N = [-2, 4, -10, 3, 4, 2, -3]"
      ],
      "metadata": {
        "id": "qrgKYI3A66tg"
      },
      "execution_count": 17,
      "outputs": []
    },
    {
      "cell_type": "markdown",
      "source": [
        "**Step 1**: Implement the map function"
      ],
      "metadata": {
        "id": "1Mw2LJ9g7B8Y"
      }
    },
    {
      "cell_type": "code",
      "source": [
        "# Y = map(f, X)\n",
        "Y = map(lambda x: x**3 if x>=0 else x**2, N)\n",
        "list(Y)  # Consumes Y map iterator, will restate below"
      ],
      "metadata": {
        "id": "vz10ElLF7VG1",
        "colab": {
          "base_uri": "https://localhost:8080/"
        },
        "outputId": "b69f8d7b-fb58-4c90-e051-76ca4aebbc04"
      },
      "execution_count": 18,
      "outputs": [
        {
          "output_type": "execute_result",
          "data": {
            "text/plain": [
              "[4, 64, 100, 27, 64, 8, 9]"
            ]
          },
          "metadata": {},
          "execution_count": 18
        }
      ]
    },
    {
      "cell_type": "markdown",
      "source": [
        "** Step 2 **: Implement the reduce function"
      ],
      "metadata": {
        "id": "Z7uvqEt77caC"
      }
    },
    {
      "cell_type": "code",
      "source": [
        "# Y restated because it was consumed in line 3 of previous output\n",
        "Y = map(lambda x: x**3 if x>=0 else x**2, N)\n",
        "\n",
        "# y = reduce(g, Y)\n",
        "y = reduce((lambda x,y: x if x>y else y), Y)"
      ],
      "metadata": {
        "id": "T-VLT8Yh7iP8"
      },
      "execution_count": 19,
      "outputs": []
    },
    {
      "cell_type": "code",
      "source": [
        "y"
      ],
      "metadata": {
        "colab": {
          "base_uri": "https://localhost:8080/"
        },
        "id": "wYuuaaYgQGHY",
        "outputId": "a4f290fe-2e86-4e47-f003-cd2ddc637d6f"
      },
      "execution_count": 20,
      "outputs": [
        {
          "output_type": "execute_result",
          "data": {
            "text/plain": [
              "100"
            ]
          },
          "metadata": {},
          "execution_count": 20
        }
      ]
    },
    {
      "cell_type": "code",
      "source": [
        "test(y, 100)"
      ],
      "metadata": {
        "id": "4W8dHsrE7p9h",
        "colab": {
          "base_uri": "https://localhost:8080/",
          "height": 36
        },
        "outputId": "7ec0484b-2750-454b-bf72-5baa34c8f555"
      },
      "execution_count": 21,
      "outputs": [
        {
          "output_type": "execute_result",
          "data": {
            "text/plain": [
              "'Test passed :)'"
            ],
            "application/vnd.google.colaboratory.intrinsic+json": {
              "type": "string"
            }
          },
          "metadata": {},
          "execution_count": 21
        }
      ]
    },
    {
      "cell_type": "markdown",
      "source": [
        "## Q 2.5. (0.5 points)\n",
        "Write a program that uses the map and reduce functions in Python to\n",
        " compute among a list of points $X = [(x_1, y_1), (x_2, y_2), …, (x_n, y_n)]$, a point that has the smallest distance to a given source point $s=(x_s, y_s)$ along with the distance of that point to the source point.\n",
        "\n",
        "The output should be a tuple\n",
        "$((x, y), d)$ in which $(x, y)$ is the closet point, among those points in $X$ to $s$, and $d$ is the distance of $(x, y)$ to $s$.\n",
        "\n",
        "The $f$ function should be as follows:\n",
        "$$f((x_i, y_i)) = ((x_i, y_i), d_i).$$\n",
        "\n",
        "The $g$ function should be as follows:\n",
        "\\begin{align}\n",
        "        g(((x_1, y_1), d_1), ((x_2, y_2), d_2)) = \\left\\{\n",
        "        \\begin{array}{cl}\n",
        "        ((x_1, y_1), d_1) & d_1 \\le d_2 \\\\\n",
        "        ((x_2, y_2), d_2) & \\text{otherwise}.\n",
        "        \\end{array}\n",
        "        \\right.\n",
        "  \\end{align}\n",
        "\n",
        "The input list $X$ and the source point $s$ are as given as follows:"
      ],
      "metadata": {
        "id": "_VKgO7GtyhWa"
      }
    },
    {
      "cell_type": "code",
      "source": [
        "X = [(-1, 3), (1, 2), (3, -2), (0, 3), (7, 10)]\n",
        "s = (5, 5)"
      ],
      "metadata": {
        "id": "6g2XFlWJogTU"
      },
      "execution_count": 22,
      "outputs": []
    },
    {
      "cell_type": "markdown",
      "source": [
        "#Step 1:\n",
        "First, we can implement a function for computing the Euclidean distance between two given point in the plane."
      ],
      "metadata": {
        "id": "iZCGgAgCmRC4"
      }
    },
    {
      "cell_type": "code",
      "source": [
        "# Step 1: Define a function to compute the Euclidean distance ---\n",
        "def distance(point1, point2):\n",
        "    \"\"\"\n",
        "    Compute the distance between two points in 2D.\n",
        "\n",
        "    Parameters:\n",
        "    - point1: (x1, y1).\n",
        "    - point2: (x2, y2).\n",
        "\n",
        "    Returns:\n",
        "    - Euclidean distance between the two points.\n",
        "    \"\"\"\n",
        "    return math.sqrt((point1[0] - point2[0])**2 + (point1[1] - point2[1])**2)"
      ],
      "metadata": {
        "id": "Oa9BspLXyiIA"
      },
      "execution_count": 23,
      "outputs": []
    },
    {
      "cell_type": "markdown",
      "source": [
        "#Step 2:\n",
        "Use the map function to compute the list $Y = [((x_1, y_1), d_1), ((x_2, y_2), d_2), …, ((x_n, y_n), d_n)]$"
      ],
      "metadata": {
        "id": "VWlS0j9nmvwc"
      }
    },
    {
      "cell_type": "code",
      "source": [
        "# Y = %implement map here%\n",
        "Y = map(lambda x: (x, distance(x, s)), X)\n",
        "Z = map(lambda x: (x, distance(x, s)), X)\n",
        "list(Z)"
      ],
      "metadata": {
        "id": "eP5z3idInK9o",
        "colab": {
          "base_uri": "https://localhost:8080/"
        },
        "outputId": "0f3c7b03-70cc-4670-9506-fee19597d439"
      },
      "execution_count": 24,
      "outputs": [
        {
          "output_type": "execute_result",
          "data": {
            "text/plain": [
              "[((-1, 3), 6.324555320336759),\n",
              " ((1, 2), 5.0),\n",
              " ((3, -2), 7.280109889280518),\n",
              " ((0, 3), 5.385164807134504),\n",
              " ((7, 10), 5.385164807134504)]"
            ]
          },
          "metadata": {},
          "execution_count": 24
        }
      ]
    },
    {
      "cell_type": "markdown",
      "source": [
        "# Step 3:\n",
        "Implement reduce function and store the final result in result"
      ],
      "metadata": {
        "id": "8owNAieAxiei"
      }
    },
    {
      "cell_type": "code",
      "source": [
        "# result = implement reduce here\n",
        "y = reduce((lambda y1,y2: y1 if y1[1]<y2[1] else y2), Y)\n",
        "y"
      ],
      "metadata": {
        "id": "V12dNi4PpPqV",
        "colab": {
          "base_uri": "https://localhost:8080/"
        },
        "outputId": "791d3e4e-b620-41f6-add9-aba05d463e85"
      },
      "execution_count": 25,
      "outputs": [
        {
          "output_type": "execute_result",
          "data": {
            "text/plain": [
              "((1, 2), 5.0)"
            ]
          },
          "metadata": {},
          "execution_count": 25
        }
      ]
    },
    {
      "cell_type": "code",
      "source": [
        "y\n",
        "test(y, ((1, 2), 5.0))"
      ],
      "metadata": {
        "id": "fJ_uv7CJqBoT",
        "colab": {
          "base_uri": "https://localhost:8080/",
          "height": 36
        },
        "outputId": "e7771f3f-0a9f-4377-da77-7115d9bbed68"
      },
      "execution_count": 26,
      "outputs": [
        {
          "output_type": "execute_result",
          "data": {
            "text/plain": [
              "'Test passed :)'"
            ],
            "application/vnd.google.colaboratory.intrinsic+json": {
              "type": "string"
            }
          },
          "metadata": {},
          "execution_count": 26
        }
      ]
    },
    {
      "cell_type": "markdown",
      "source": [
        "# Q 2.6. (0.5 points)\n",
        "Use MapReduce to compute the axis-parallel minimum bounding box (APMBB) of the points in the previous question, Q 2.5. Solution to the APMBB problem, which was given in HW01, will be discussed in class next Monday.\n",
        "\n",
        "Store the result in a variable with name $box$, which is a tuple $(l, r, t, b)$."
      ],
      "metadata": {
        "id": "u57zsFntzRCz"
      }
    },
    {
      "cell_type": "code",
      "source": [
        "# X = [(-1, 3), (1, 2), (3, -2), (0, 3), (7, 10)]\n",
        "Y2 = map(lambda x: x, X)\n",
        "# Y2 = list(Y2)\n",
        "# Y2"
      ],
      "metadata": {
        "id": "_bUzOd950UTJ"
      },
      "execution_count": 110,
      "outputs": []
    },
    {
      "cell_type": "code",
      "source": [
        "# Y2 = map(lambda x: x, X)\n",
        "box = reduce((lambda a,b: (min(a[0], b[0]), max(a[1], b[0]), min(a[2], b[1]), max(a[3], b[1]))), Y2, (math.inf, -math.inf, math.inf, -math.inf))\n",
        "box"
      ],
      "metadata": {
        "id": "eJDRoq2G1Gn-",
        "colab": {
          "base_uri": "https://localhost:8080/"
        },
        "outputId": "672d04cc-e1fc-4aac-a750-e5a99ef2cbb2"
      },
      "execution_count": 111,
      "outputs": [
        {
          "output_type": "execute_result",
          "data": {
            "text/plain": [
              "(-1, 7, -2, 10)"
            ]
          },
          "metadata": {},
          "execution_count": 111
        }
      ]
    },
    {
      "cell_type": "code",
      "source": [
        "box\n",
        "test(box, (-1, 7, -2, 10))"
      ],
      "metadata": {
        "id": "0fuWqSIX1k4C",
        "colab": {
          "base_uri": "https://localhost:8080/",
          "height": 36
        },
        "outputId": "73914c0e-575c-43d5-e11f-b0567619c86f"
      },
      "execution_count": 112,
      "outputs": [
        {
          "output_type": "execute_result",
          "data": {
            "text/plain": [
              "'Test passed :)'"
            ],
            "application/vnd.google.colaboratory.intrinsic+json": {
              "type": "string"
            }
          },
          "metadata": {},
          "execution_count": 112
        }
      ]
    },
    {
      "cell_type": "code",
      "source": [
        "plot_points_and_rectangle(X, l=box[0], r=box[1], b=box[2], t=box[3], title=\"Axis-Parallel Minimum Bounding Box\")"
      ],
      "metadata": {
        "id": "arKaBZxt1-Wk",
        "colab": {
          "base_uri": "https://localhost:8080/",
          "height": 569
        },
        "outputId": "980f06d5-34e1-43a5-8ae0-09074c29c893"
      },
      "execution_count": 113,
      "outputs": [
        {
          "output_type": "display_data",
          "data": {
            "text/plain": [
              "<Figure size 800x600 with 1 Axes>"
            ],
            "image/png": "[encoded data removed]"
          },
          "metadata": {}
        }
      ]
    },
    {
      "cell_type": "code",
      "source": [],
      "metadata": {
        "id": "pAeUcG1fbpyB"
      },
      "execution_count": null,
      "outputs": []
    }
  ]
}